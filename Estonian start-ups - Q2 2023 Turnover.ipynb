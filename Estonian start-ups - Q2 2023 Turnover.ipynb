{
 "cells": [
  {
   "cell_type": "code",
   "execution_count": 1,
   "id": "d60ec22b",
   "metadata": {},
   "outputs": [],
   "source": [
    "import numpy as np\n",
    "import pandas as pd\n",
    "import matplotlib.pyplot as plt\n",
    "import seaborn as sns\n"
   ]
  },
  {
   "cell_type": "code",
   "execution_count": 2,
   "id": "5ae68e24",
   "metadata": {},
   "outputs": [
    {
     "data": {
      "text/plain": [
       "(1534, 7)"
      ]
     },
     "execution_count": 2,
     "metadata": {},
     "output_type": "execute_result"
    }
   ],
   "source": [
    "# Source of the data: Startup Estonia (https://startupestonia.ee/startup-database)\n",
    "df = pd.read_csv(\"estonian start-up turnover Q2 2023.csv\", encoding = \"utf-8\")\n",
    "df.shape"
   ]
  },
  {
   "cell_type": "code",
   "execution_count": 3,
   "id": "f221738f",
   "metadata": {},
   "outputs": [
    {
     "data": {
      "text/html": [
       "<div>\n",
       "<style scoped>\n",
       "    .dataframe tbody tr th:only-of-type {\n",
       "        vertical-align: middle;\n",
       "    }\n",
       "\n",
       "    .dataframe tbody tr th {\n",
       "        vertical-align: top;\n",
       "    }\n",
       "\n",
       "    .dataframe thead th {\n",
       "        text-align: right;\n",
       "    }\n",
       "</style>\n",
       "<table border=\"1\" class=\"dataframe\">\n",
       "  <thead>\n",
       "    <tr style=\"text-align: right;\">\n",
       "      <th></th>\n",
       "      <th>Startup</th>\n",
       "      <th>Sector</th>\n",
       "      <th>Business model</th>\n",
       "      <th>Employee count 2Q 2023</th>\n",
       "      <th>Employment taxes 2Q 2023</th>\n",
       "      <th>Turnover 2Q 2023</th>\n",
       "      <th>Year founded</th>\n",
       "    </tr>\n",
       "  </thead>\n",
       "  <tbody>\n",
       "    <tr>\n",
       "      <th>0</th>\n",
       "      <td>Bolt</td>\n",
       "      <td>Transportation &amp; Logistics</td>\n",
       "      <td>B2B2C</td>\n",
       "      <td>1290</td>\n",
       "      <td>€ 9M</td>\n",
       "      <td>€ 302.5M</td>\n",
       "      <td>2013</td>\n",
       "    </tr>\n",
       "    <tr>\n",
       "      <th>1</th>\n",
       "      <td>Wise</td>\n",
       "      <td>FinTech</td>\n",
       "      <td>B2B, C2C, B2C</td>\n",
       "      <td>1899</td>\n",
       "      <td>€ 8.7M</td>\n",
       "      <td>€ 54.6K</td>\n",
       "      <td>2013</td>\n",
       "    </tr>\n",
       "    <tr>\n",
       "      <th>2</th>\n",
       "      <td>Veriff</td>\n",
       "      <td>CyberTech</td>\n",
       "      <td>B2B, B2B2C</td>\n",
       "      <td>330</td>\n",
       "      <td>€ 2.4M</td>\n",
       "      <td>€ 18.1M</td>\n",
       "      <td>2015</td>\n",
       "    </tr>\n",
       "    <tr>\n",
       "      <th>3</th>\n",
       "      <td>Monese</td>\n",
       "      <td>FinTech</td>\n",
       "      <td>-</td>\n",
       "      <td>240</td>\n",
       "      <td>€ 1.6M</td>\n",
       "      <td>€ 74K</td>\n",
       "      <td>2015</td>\n",
       "    </tr>\n",
       "    <tr>\n",
       "      <th>4</th>\n",
       "      <td>Starship Technol...</td>\n",
       "      <td>Transportation &amp; Logistics</td>\n",
       "      <td>-</td>\n",
       "      <td>166</td>\n",
       "      <td>€ 1.4M</td>\n",
       "      <td>€ 5.4M</td>\n",
       "      <td>2014</td>\n",
       "    </tr>\n",
       "  </tbody>\n",
       "</table>\n",
       "</div>"
      ],
      "text/plain": [
       "                Startup                      Sector Business model  \\\n",
       "0                  Bolt  Transportation & Logistics          B2B2C   \n",
       "1                  Wise                     FinTech  B2B, C2C, B2C   \n",
       "2                Veriff                   CyberTech     B2B, B2B2C   \n",
       "3                Monese                     FinTech              -   \n",
       "4   Starship Technol...  Transportation & Logistics              -   \n",
       "\n",
       "  Employee count 2Q 2023 Employment taxes 2Q 2023 Turnover 2Q 2023  \\\n",
       "0                   1290                     € 9M         € 302.5M   \n",
       "1                   1899                   € 8.7M          € 54.6K   \n",
       "2                    330                   € 2.4M          € 18.1M   \n",
       "3                    240                   € 1.6M            € 74K   \n",
       "4                    166                   € 1.4M           € 5.4M   \n",
       "\n",
       "   Year founded  \n",
       "0          2013  \n",
       "1          2013  \n",
       "2          2015  \n",
       "3          2015  \n",
       "4          2014  "
      ]
     },
     "execution_count": 3,
     "metadata": {},
     "output_type": "execute_result"
    }
   ],
   "source": [
    "df.head()"
   ]
  },
  {
   "cell_type": "code",
   "execution_count": 4,
   "id": "8c08f1ba",
   "metadata": {},
   "outputs": [
    {
     "data": {
      "text/plain": [
       "Index(['Startup', 'Sector', 'Business model', 'Employee count 2Q 2023',\n",
       "       'Employment taxes 2Q 2023', 'Turnover 2Q 2023', 'Year founded'],\n",
       "      dtype='object')"
      ]
     },
     "execution_count": 4,
     "metadata": {},
     "output_type": "execute_result"
    }
   ],
   "source": [
    "df.columns"
   ]
  },
  {
   "cell_type": "code",
   "execution_count": 5,
   "id": "ebfa0ff1",
   "metadata": {},
   "outputs": [
    {
     "name": "stdout",
     "output_type": "stream",
     "text": [
      "<class 'pandas.core.frame.DataFrame'>\n",
      "RangeIndex: 1534 entries, 0 to 1533\n",
      "Data columns (total 7 columns):\n",
      " #   Column                    Non-Null Count  Dtype \n",
      "---  ------                    --------------  ----- \n",
      " 0   Startup                   1534 non-null   object\n",
      " 1   Sector                    1534 non-null   object\n",
      " 2   Business model            1534 non-null   object\n",
      " 3   Employee count 2Q 2023    1534 non-null   object\n",
      " 4   Employment taxes 2Q 2023  1534 non-null   object\n",
      " 5   Turnover 2Q 2023          1534 non-null   object\n",
      " 6   Year founded              1534 non-null   int64 \n",
      "dtypes: int64(1), object(6)\n",
      "memory usage: 84.0+ KB\n"
     ]
    }
   ],
   "source": [
    "df.info()"
   ]
  },
  {
   "cell_type": "code",
   "execution_count": 6,
   "id": "d5c1fb4b",
   "metadata": {},
   "outputs": [
    {
     "data": {
      "text/plain": [
       "Startup                     0\n",
       "Sector                      0\n",
       "Business model              0\n",
       "Employee count 2Q 2023      0\n",
       "Employment taxes 2Q 2023    0\n",
       "Turnover 2Q 2023            0\n",
       "Year founded                0\n",
       "dtype: int64"
      ]
     },
     "execution_count": 6,
     "metadata": {},
     "output_type": "execute_result"
    }
   ],
   "source": [
    "df.isnull().sum()"
   ]
  },
  {
   "cell_type": "code",
   "execution_count": 7,
   "id": "1750d074",
   "metadata": {},
   "outputs": [
    {
     "data": {
      "text/plain": [
       "Startup                     1534\n",
       "Sector                        17\n",
       "Business model                34\n",
       "Employee count 2Q 2023        67\n",
       "Employment taxes 2Q 2023     420\n",
       "Turnover 2Q 2023             610\n",
       "Year founded                  12\n",
       "dtype: int64"
      ]
     },
     "execution_count": 7,
     "metadata": {},
     "output_type": "execute_result"
    }
   ],
   "source": [
    "df.nunique()\n",
    "# 1534 startups listed\n",
    "# in 17 sectors\n",
    "# with 34 combinations of business models"
   ]
  },
  {
   "cell_type": "code",
   "execution_count": 8,
   "id": "4d3a5ed1",
   "metadata": {},
   "outputs": [
    {
     "data": {
      "text/plain": [
       "['Transportation & Logistics',\n",
       " 'FinTech',\n",
       " 'CyberTech',\n",
       " 'Communication',\n",
       " 'Business software & HR',\n",
       " 'Advanced Manufacturing & Industry',\n",
       " 'Consumer products and services',\n",
       " 'CleanTech',\n",
       " 'SpaceTech',\n",
       " 'TravelTech',\n",
       " 'Gaming',\n",
       " 'AgTech & FoodTech',\n",
       " 'HealthTech, Life sciences & Wellness',\n",
       " 'PropTech & Construction',\n",
       " 'EdTech',\n",
       " 'AdTech & Creative Tech',\n",
       " '-']"
      ]
     },
     "execution_count": 8,
     "metadata": {},
     "output_type": "execute_result"
    }
   ],
   "source": [
    "list(df[\"Sector\"].unique())"
   ]
  },
  {
   "cell_type": "code",
   "execution_count": 9,
   "id": "efe1e468",
   "metadata": {},
   "outputs": [
    {
     "data": {
      "text/plain": [
       "Business software & HR                  268\n",
       "FinTech                                 206\n",
       "Consumer products and services          178\n",
       "HealthTech, Life sciences & Wellness    137\n",
       "AdTech & Creative Tech                  117\n",
       "CleanTech                                85\n",
       "Transportation & Logistics               84\n",
       "Communication                            73\n",
       "CyberTech                                69\n",
       "Gaming                                   61\n",
       "EdTech                                   58\n",
       "Advanced Manufacturing & Industry        51\n",
       "AgTech & FoodTech                        45\n",
       "PropTech & Construction                  41\n",
       "TravelTech                               40\n",
       "SpaceTech                                20\n",
       "-                                         1\n",
       "Name: Sector, dtype: int64"
      ]
     },
     "execution_count": 9,
     "metadata": {},
     "output_type": "execute_result"
    }
   ],
   "source": [
    "df[\"Sector\"].value_counts()"
   ]
  },
  {
   "cell_type": "code",
   "execution_count": 10,
   "id": "1214c77a",
   "metadata": {},
   "outputs": [
    {
     "data": {
      "text/html": [
       "<div>\n",
       "<style scoped>\n",
       "    .dataframe tbody tr th:only-of-type {\n",
       "        vertical-align: middle;\n",
       "    }\n",
       "\n",
       "    .dataframe tbody tr th {\n",
       "        vertical-align: top;\n",
       "    }\n",
       "\n",
       "    .dataframe thead th {\n",
       "        text-align: right;\n",
       "    }\n",
       "</style>\n",
       "<table border=\"1\" class=\"dataframe\">\n",
       "  <thead>\n",
       "    <tr style=\"text-align: right;\">\n",
       "      <th></th>\n",
       "      <th>Startup</th>\n",
       "      <th>Sector</th>\n",
       "      <th>Business model</th>\n",
       "      <th>Employee count 2Q 2023</th>\n",
       "      <th>Employment taxes 2Q 2023</th>\n",
       "      <th>Turnover 2Q 2023</th>\n",
       "      <th>Year founded</th>\n",
       "    </tr>\n",
       "  </thead>\n",
       "  <tbody>\n",
       "    <tr>\n",
       "      <th>202</th>\n",
       "      <td>AYREN</td>\n",
       "      <td>-</td>\n",
       "      <td>B2B, B2B2B, B2G, B2C, B2B2C</td>\n",
       "      <td>19</td>\n",
       "      <td>€ 30.8K</td>\n",
       "      <td>€ 508.2K</td>\n",
       "      <td>2023</td>\n",
       "    </tr>\n",
       "  </tbody>\n",
       "</table>\n",
       "</div>"
      ],
      "text/plain": [
       "    Startup Sector               Business model Employee count 2Q 2023  \\\n",
       "202   AYREN      -  B2B, B2B2B, B2G, B2C, B2B2C                     19   \n",
       "\n",
       "    Employment taxes 2Q 2023 Turnover 2Q 2023  Year founded  \n",
       "202                  € 30.8K         € 508.2K          2023  "
      ]
     },
     "execution_count": 10,
     "metadata": {},
     "output_type": "execute_result"
    }
   ],
   "source": [
    "# examining the one startup without a defined sector\n",
    "df[df[\"Sector\"]==\"-\"]"
   ]
  },
  {
   "cell_type": "code",
   "execution_count": 11,
   "id": "c67332b8",
   "metadata": {},
   "outputs": [
    {
     "data": {
      "text/plain": [
       "Startup                                           AYREN\n",
       "Sector                       Transportation & Logistics\n",
       "Business model              B2B, B2B2B, B2G, B2C, B2B2C\n",
       "Employee count 2Q 2023                               19\n",
       "Employment taxes 2Q 2023                        € 30.8K\n",
       "Turnover 2Q 2023                               € 508.2K\n",
       "Year founded                                       2023\n",
       "Name: 202, dtype: object"
      ]
     },
     "execution_count": 11,
     "metadata": {},
     "output_type": "execute_result"
    }
   ],
   "source": [
    "# Search results indicated that this particular company works in the Transportation & Logisics industry (on the information technology subsector)\n",
    "df.loc[202, \"Sector\"] = \"Transportation & Logistics\"\n",
    "df.loc[202]"
   ]
  },
  {
   "cell_type": "code",
   "execution_count": 12,
   "id": "7e61e868",
   "metadata": {},
   "outputs": [
    {
     "data": {
      "image/png": "[encoded data removed]",
      "text/plain": [
       "<Figure size 432x288 with 1 Axes>"
      ]
     },
     "metadata": {
      "needs_background": "light"
     },
     "output_type": "display_data"
    }
   ],
   "source": [
    "# Visualising the distribution of startups across different sectors\n",
    "fig, ax = plt.subplots()\n",
    "ax.set_title(\"Sectors\")\n",
    "ax.barh(df[\"Sector\"].value_counts().index, df[\"Sector\"].value_counts())\n",
    "ax.invert_yaxis()\n",
    "plt.show()"
   ]
  },
  {
   "cell_type": "code",
   "execution_count": 13,
   "id": "57d60596",
   "metadata": {},
   "outputs": [
    {
     "data": {
      "text/plain": [
       "array(['1290', '1899', '330', '240', '166', '159', '192', '150', '114',\n",
       "       '409', '104', '71', '130', '90', '38', '93', '70', '51', '43',\n",
       "       '276', '97', '44', '57', '46', '34', '32', '48', '56', '60', '35',\n",
       "       '47', '53', '30', '10', '42', '29', '27', '20', '41', '13', '28',\n",
       "       '15', '39', '-', '21', '80', '18', '14', '25', '22', '17', '16',\n",
       "       '9', '11', '12', '8', '23', '7', '4', '19', '6', '24', '2', '5',\n",
       "       '3', '1', '156'], dtype=object)"
      ]
     },
     "execution_count": 13,
     "metadata": {},
     "output_type": "execute_result"
    }
   ],
   "source": [
    "# Visualising the distribution of the number of employees and the year the startup was founded\n",
    "df[\"Employee count 2Q 2023\"].unique()"
   ]
  },
  {
   "cell_type": "code",
   "execution_count": 14,
   "id": "696a1444",
   "metadata": {},
   "outputs": [
    {
     "data": {
      "text/plain": [
       "<matplotlib.collections.PathCollection at 0x20cf8149850>"
      ]
     },
     "execution_count": 14,
     "metadata": {},
     "output_type": "execute_result"
    },
    {
     "data": {
      "image/png": "[encoded data removed]",
      "text/plain": [
       "<Figure size 432x288 with 1 Axes>"
      ]
     },
     "metadata": {
      "needs_background": "light"
     },
     "output_type": "display_data"
    }
   ],
   "source": [
    "df_filter = df[df[\"Employee count 2Q 2023\"] != \"-\"]\n",
    "df_filter = pd.DataFrame(df_filter)\n",
    "df_filter[\"Employee count 2Q 2023\"] = df_filter[\"Employee count 2Q 2023\"].astype('int64')\n",
    "\n",
    "\n",
    "fig, ax = plt.subplots()\n",
    "ax.set_xlabel(\"Year founded\")\n",
    "ax.set_ylabel(\"Number of employees\")\n",
    "ax.scatter(x=df_filter[\"Year founded\"], y=df_filter[\"Employee count 2Q 2023\"])\n"
   ]
  },
  {
   "cell_type": "code",
   "execution_count": 15,
   "id": "d56f89c6",
   "metadata": {},
   "outputs": [
    {
     "data": {
      "text/html": [
       "<div>\n",
       "<style scoped>\n",
       "    .dataframe tbody tr th:only-of-type {\n",
       "        vertical-align: middle;\n",
       "    }\n",
       "\n",
       "    .dataframe tbody tr th {\n",
       "        vertical-align: top;\n",
       "    }\n",
       "\n",
       "    .dataframe thead th {\n",
       "        text-align: right;\n",
       "    }\n",
       "</style>\n",
       "<table border=\"1\" class=\"dataframe\">\n",
       "  <thead>\n",
       "    <tr style=\"text-align: right;\">\n",
       "      <th></th>\n",
       "      <th>Startup</th>\n",
       "      <th>Sector</th>\n",
       "      <th>Business model</th>\n",
       "      <th>Employee count 2Q 2023</th>\n",
       "      <th>Employment taxes 2Q 2023</th>\n",
       "      <th>Turnover 2Q 2023</th>\n",
       "      <th>Year founded</th>\n",
       "    </tr>\n",
       "  </thead>\n",
       "  <tbody>\n",
       "    <tr>\n",
       "      <th>0</th>\n",
       "      <td>Bolt</td>\n",
       "      <td>Transportation &amp; Logistics</td>\n",
       "      <td>B2B2C</td>\n",
       "      <td>1290</td>\n",
       "      <td>9000000</td>\n",
       "      <td>302500000</td>\n",
       "      <td>2013</td>\n",
       "    </tr>\n",
       "    <tr>\n",
       "      <th>1</th>\n",
       "      <td>Wise</td>\n",
       "      <td>FinTech</td>\n",
       "      <td>B2B, C2C, B2C</td>\n",
       "      <td>1899</td>\n",
       "      <td>8700000</td>\n",
       "      <td>54610</td>\n",
       "      <td>2013</td>\n",
       "    </tr>\n",
       "    <tr>\n",
       "      <th>2</th>\n",
       "      <td>Veriff</td>\n",
       "      <td>CyberTech</td>\n",
       "      <td>B2B, B2B2C</td>\n",
       "      <td>330</td>\n",
       "      <td>2400000</td>\n",
       "      <td>18100000</td>\n",
       "      <td>2015</td>\n",
       "    </tr>\n",
       "    <tr>\n",
       "      <th>3</th>\n",
       "      <td>Monese</td>\n",
       "      <td>FinTech</td>\n",
       "      <td>-</td>\n",
       "      <td>240</td>\n",
       "      <td>1600000</td>\n",
       "      <td>741000</td>\n",
       "      <td>2015</td>\n",
       "    </tr>\n",
       "    <tr>\n",
       "      <th>4</th>\n",
       "      <td>Starship Technol...</td>\n",
       "      <td>Transportation &amp; Logistics</td>\n",
       "      <td>-</td>\n",
       "      <td>166</td>\n",
       "      <td>1400000</td>\n",
       "      <td>5400000</td>\n",
       "      <td>2014</td>\n",
       "    </tr>\n",
       "  </tbody>\n",
       "</table>\n",
       "</div>"
      ],
      "text/plain": [
       "                Startup                      Sector Business model  \\\n",
       "0                  Bolt  Transportation & Logistics          B2B2C   \n",
       "1                  Wise                     FinTech  B2B, C2C, B2C   \n",
       "2                Veriff                   CyberTech     B2B, B2B2C   \n",
       "3                Monese                     FinTech              -   \n",
       "4   Starship Technol...  Transportation & Logistics              -   \n",
       "\n",
       "  Employee count 2Q 2023  Employment taxes 2Q 2023  Turnover 2Q 2023  \\\n",
       "0                   1290                   9000000         302500000   \n",
       "1                   1899                   8700000             54610   \n",
       "2                    330                   2400000          18100000   \n",
       "3                    240                   1600000            741000   \n",
       "4                    166                   1400000           5400000   \n",
       "\n",
       "   Year founded  \n",
       "0          2013  \n",
       "1          2013  \n",
       "2          2015  \n",
       "3          2015  \n",
       "4          2014  "
      ]
     },
     "execution_count": 15,
     "metadata": {},
     "output_type": "execute_result"
    }
   ],
   "source": [
    "# Visualising the turnover\n",
    "\n",
    "# Transformer the employee taxes and turnover columns to numerical values\n",
    "df[\"Employment taxes 2Q 2023\"] = df[\"Employment taxes 2Q 2023\"].replace({\"€ \":\"\", \"M\":\"*1e6\",\"K\":\"1e3\",\"-\":\"0\",\",\":\".\"}, regex = True)\n",
    "df[\"Employment taxes 2Q 2023\"] = df[\"Employment taxes 2Q 2023\"].map(pd.eval).astype(int)\n",
    "\n",
    "df[\"Turnover 2Q 2023\"] = df[\"Turnover 2Q 2023\"].replace({\"€ \":\"\", \"M\":\"*1e6\",\"K\":\"1e3\",\"-\":\"0\",\",\":\".\"}, regex = True)\n",
    "df[\"Turnover 2Q 2023\"] = df[\"Turnover 2Q 2023\"].map(pd.eval).astype(int)\n",
    "df.head()"
   ]
  },
  {
   "cell_type": "code",
   "execution_count": 16,
   "id": "759dfa2f",
   "metadata": {},
   "outputs": [
    {
     "data": {
      "text/html": [
       "<div>\n",
       "<style scoped>\n",
       "    .dataframe tbody tr th:only-of-type {\n",
       "        vertical-align: middle;\n",
       "    }\n",
       "\n",
       "    .dataframe tbody tr th {\n",
       "        vertical-align: top;\n",
       "    }\n",
       "\n",
       "    .dataframe thead th {\n",
       "        text-align: right;\n",
       "    }\n",
       "</style>\n",
       "<table border=\"1\" class=\"dataframe\">\n",
       "  <thead>\n",
       "    <tr style=\"text-align: right;\">\n",
       "      <th></th>\n",
       "      <th>Startup</th>\n",
       "      <th>Sector</th>\n",
       "      <th>Business model</th>\n",
       "      <th>Employee count 2Q 2023</th>\n",
       "      <th>Employment taxes 2Q 2023</th>\n",
       "      <th>Turnover 2Q 2023</th>\n",
       "      <th>Year founded</th>\n",
       "    </tr>\n",
       "  </thead>\n",
       "  <tbody>\n",
       "    <tr>\n",
       "      <th>0</th>\n",
       "      <td>Bolt</td>\n",
       "      <td>Transportation &amp; Logistics</td>\n",
       "      <td>B2B2C</td>\n",
       "      <td>1290</td>\n",
       "      <td>9000000</td>\n",
       "      <td>302500000</td>\n",
       "      <td>2013</td>\n",
       "    </tr>\n",
       "    <tr>\n",
       "      <th>2</th>\n",
       "      <td>Veriff</td>\n",
       "      <td>CyberTech</td>\n",
       "      <td>B2B, B2B2C</td>\n",
       "      <td>330</td>\n",
       "      <td>2400000</td>\n",
       "      <td>18100000</td>\n",
       "      <td>2015</td>\n",
       "    </tr>\n",
       "    <tr>\n",
       "      <th>121</th>\n",
       "      <td>Viseven</td>\n",
       "      <td>Business software &amp; HR</td>\n",
       "      <td>-</td>\n",
       "      <td>11</td>\n",
       "      <td>55910</td>\n",
       "      <td>8700000</td>\n",
       "      <td>2014</td>\n",
       "    </tr>\n",
       "    <tr>\n",
       "      <th>1289</th>\n",
       "      <td>Flant</td>\n",
       "      <td>Business software &amp; HR</td>\n",
       "      <td>B2B</td>\n",
       "      <td>-</td>\n",
       "      <td>0</td>\n",
       "      <td>7761000</td>\n",
       "      <td>2018</td>\n",
       "    </tr>\n",
       "    <tr>\n",
       "      <th>315</th>\n",
       "      <td>Crezu</td>\n",
       "      <td>FinTech</td>\n",
       "      <td>B2C</td>\n",
       "      <td>2</td>\n",
       "      <td>9910</td>\n",
       "      <td>7700000</td>\n",
       "      <td>2018</td>\n",
       "    </tr>\n",
       "    <tr>\n",
       "      <th>...</th>\n",
       "      <td>...</td>\n",
       "      <td>...</td>\n",
       "      <td>...</td>\n",
       "      <td>...</td>\n",
       "      <td>...</td>\n",
       "      <td>...</td>\n",
       "      <td>...</td>\n",
       "    </tr>\n",
       "    <tr>\n",
       "      <th>124</th>\n",
       "      <td>Haut.AI</td>\n",
       "      <td>HealthTech, Life sciences &amp; Wellness</td>\n",
       "      <td>B2B</td>\n",
       "      <td>6</td>\n",
       "      <td>53610</td>\n",
       "      <td>805910</td>\n",
       "      <td>2018</td>\n",
       "    </tr>\n",
       "    <tr>\n",
       "      <th>176</th>\n",
       "      <td>REBELROAM OÜ</td>\n",
       "      <td>CyberTech</td>\n",
       "      <td>B2B, B2B2C</td>\n",
       "      <td>8</td>\n",
       "      <td>36910</td>\n",
       "      <td>802310</td>\n",
       "      <td>2015</td>\n",
       "    </tr>\n",
       "    <tr>\n",
       "      <th>264</th>\n",
       "      <td>Quantfall</td>\n",
       "      <td>CyberTech</td>\n",
       "      <td>B2B</td>\n",
       "      <td>3</td>\n",
       "      <td>16310</td>\n",
       "      <td>791000</td>\n",
       "      <td>2021</td>\n",
       "    </tr>\n",
       "    <tr>\n",
       "      <th>44</th>\n",
       "      <td>CyberCube Analyt...</td>\n",
       "      <td>CyberTech</td>\n",
       "      <td>B2B</td>\n",
       "      <td>20</td>\n",
       "      <td>1751000</td>\n",
       "      <td>783410</td>\n",
       "      <td>2019</td>\n",
       "    </tr>\n",
       "    <tr>\n",
       "      <th>3</th>\n",
       "      <td>Monese</td>\n",
       "      <td>FinTech</td>\n",
       "      <td>-</td>\n",
       "      <td>240</td>\n",
       "      <td>1600000</td>\n",
       "      <td>741000</td>\n",
       "      <td>2015</td>\n",
       "    </tr>\n",
       "  </tbody>\n",
       "</table>\n",
       "<p>100 rows × 7 columns</p>\n",
       "</div>"
      ],
      "text/plain": [
       "                   Startup                                Sector  \\\n",
       "0                     Bolt            Transportation & Logistics   \n",
       "2                   Veriff                             CyberTech   \n",
       "121                Viseven                Business software & HR   \n",
       "1289                 Flant                Business software & HR   \n",
       "315                  Crezu                               FinTech   \n",
       "...                    ...                                   ...   \n",
       "124                Haut.AI  HealthTech, Life sciences & Wellness   \n",
       "176           REBELROAM OÜ                             CyberTech   \n",
       "264              Quantfall                             CyberTech   \n",
       "44     CyberCube Analyt...                             CyberTech   \n",
       "3                   Monese                               FinTech   \n",
       "\n",
       "     Business model Employee count 2Q 2023  Employment taxes 2Q 2023  \\\n",
       "0             B2B2C                   1290                   9000000   \n",
       "2        B2B, B2B2C                    330                   2400000   \n",
       "121               -                     11                     55910   \n",
       "1289            B2B                      -                         0   \n",
       "315             B2C                      2                      9910   \n",
       "...             ...                    ...                       ...   \n",
       "124             B2B                      6                     53610   \n",
       "176      B2B, B2B2C                      8                     36910   \n",
       "264             B2B                      3                     16310   \n",
       "44              B2B                     20                   1751000   \n",
       "3                 -                    240                   1600000   \n",
       "\n",
       "      Turnover 2Q 2023  Year founded  \n",
       "0            302500000          2013  \n",
       "2             18100000          2015  \n",
       "121            8700000          2014  \n",
       "1289           7761000          2018  \n",
       "315            7700000          2018  \n",
       "...                ...           ...  \n",
       "124             805910          2018  \n",
       "176             802310          2015  \n",
       "264             791000          2021  \n",
       "44              783410          2019  \n",
       "3               741000          2015  \n",
       "\n",
       "[100 rows x 7 columns]"
      ]
     },
     "execution_count": 16,
     "metadata": {},
     "output_type": "execute_result"
    }
   ],
   "source": [
    "df = df.sort_values(\"Turnover 2Q 2023\", ascending = False)\n",
    "df.head(100)"
   ]
  },
  {
   "cell_type": "code",
   "execution_count": 17,
   "id": "c43dc9d4",
   "metadata": {},
   "outputs": [
    {
     "data": {
      "image/png": "[encoded data removed]",
      "text/plain": [
       "<Figure size 360x360 with 1 Axes>"
      ]
     },
     "metadata": {
      "needs_background": "light"
     },
     "output_type": "display_data"
    }
   ],
   "source": [
    "df_top_100 = df.iloc[0:100]\n",
    "fig, ax = plt.subplots(figsize=(5,5))\n",
    "ax.hist(df_top_100[\"Turnover 2Q 2023\"]/1e6)\n",
    "ax.set_xlabel(\"Turnover (in millions of euros)\")\n",
    "ax.set_ylabel(\"Number of companies\")\n",
    "plt.show()\n",
    "# One company (Bolt) had a turnover of more than 300 million euros on the second quarter of 2023"
   ]
  },
  {
   "cell_type": "code",
   "execution_count": 18,
   "id": "701f4403",
   "metadata": {
    "scrolled": true
   },
   "outputs": [
    {
     "data": {
      "image/png": "[encoded data removed]",
      "text/plain": [
       "<Figure size 360x360 with 1 Axes>"
      ]
     },
     "metadata": {
      "needs_background": "light"
     },
     "output_type": "display_data"
    }
   ],
   "source": [
    "# Visualising the turnover of the next 100 companies (after Bolt)\n",
    "df_top_100_without_bolt = df.iloc[1:101]\n",
    "fig, ax = plt.subplots(figsize=(5,5))\n",
    "ax.hist(df_top_100_without_bolt[\"Turnover 2Q 2023\"]/1e6)\n",
    "ax.set_xlabel(\"Turnover (in millions of euros)\")\n",
    "ax.set_ylabel(\"Number of companies\")\n",
    "plt.show()"
   ]
  }
 ],
 "metadata": {
  "kernelspec": {
   "display_name": "Python 3 (ipykernel)",
   "language": "python",
   "name": "python3"
  },
  "language_info": {
   "codemirror_mode": {
    "name": "ipython",
    "version": 3
   },
   "file_extension": ".py",
   "mimetype": "text/x-python",
   "name": "python",
   "nbconvert_exporter": "python",
   "pygments_lexer": "ipython3",
   "version": "3.9.0"
  }
 },
 "nbformat": 4,
 "nbformat_minor": 5
}
